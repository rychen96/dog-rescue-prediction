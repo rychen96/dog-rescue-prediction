{
 "cells": [
  {
   "cell_type": "code",
   "execution_count": 33,
   "metadata": {
    "scrolled": true
   },
   "outputs": [
    {
     "data": {
      "text/html": [
       "<div>\n",
       "<style scoped>\n",
       "    .dataframe tbody tr th:only-of-type {\n",
       "        vertical-align: middle;\n",
       "    }\n",
       "\n",
       "    .dataframe tbody tr th {\n",
       "        vertical-align: top;\n",
       "    }\n",
       "\n",
       "    .dataframe thead th {\n",
       "        text-align: right;\n",
       "    }\n",
       "</style>\n",
       "<table border=\"1\" class=\"dataframe\">\n",
       "  <thead>\n",
       "    <tr style=\"text-align: right;\">\n",
       "      <th></th>\n",
       "      <th>Days in Rescue</th>\n",
       "      <th>Heartworm Positive</th>\n",
       "      <th>Breed</th>\n",
       "      <th>Sex</th>\n",
       "      <th>Age Group When Rescued</th>\n",
       "      <th>Color</th>\n",
       "      <th>Size</th>\n",
       "    </tr>\n",
       "    <tr>\n",
       "      <th>Name of Dog</th>\n",
       "      <th></th>\n",
       "      <th></th>\n",
       "      <th></th>\n",
       "      <th></th>\n",
       "      <th></th>\n",
       "      <th></th>\n",
       "      <th></th>\n",
       "    </tr>\n",
       "  </thead>\n",
       "  <tbody>\n",
       "    <tr>\n",
       "      <td>Aaron</td>\n",
       "      <td>30</td>\n",
       "      <td>N</td>\n",
       "      <td>Labrador</td>\n",
       "      <td>M</td>\n",
       "      <td>Young</td>\n",
       "      <td>Yellow</td>\n",
       "      <td>Medium</td>\n",
       "    </tr>\n",
       "    <tr>\n",
       "      <td>Abby</td>\n",
       "      <td>11</td>\n",
       "      <td>N</td>\n",
       "      <td>Dachshund</td>\n",
       "      <td>F</td>\n",
       "      <td>Adult</td>\n",
       "      <td>Tan</td>\n",
       "      <td>Small</td>\n",
       "    </tr>\n",
       "    <tr>\n",
       "      <td>Abby</td>\n",
       "      <td>31</td>\n",
       "      <td>N</td>\n",
       "      <td>Unknown</td>\n",
       "      <td>F</td>\n",
       "      <td>Adult</td>\n",
       "      <td>Brindle</td>\n",
       "      <td>Medium</td>\n",
       "    </tr>\n",
       "    <tr>\n",
       "      <td>Abby</td>\n",
       "      <td>47</td>\n",
       "      <td>N</td>\n",
       "      <td>Mixed Breed (Non-Pitbull)</td>\n",
       "      <td>F</td>\n",
       "      <td>Puppy</td>\n",
       "      <td>Multicolor</td>\n",
       "      <td>Medium</td>\n",
       "    </tr>\n",
       "    <tr>\n",
       "      <td>Abby</td>\n",
       "      <td>83</td>\n",
       "      <td>N</td>\n",
       "      <td>Chihuahua</td>\n",
       "      <td>F</td>\n",
       "      <td>Adult</td>\n",
       "      <td>Tan</td>\n",
       "      <td>Small</td>\n",
       "    </tr>\n",
       "    <tr>\n",
       "      <td>Abby</td>\n",
       "      <td>90</td>\n",
       "      <td>N</td>\n",
       "      <td>Mastiff</td>\n",
       "      <td>F</td>\n",
       "      <td>Young</td>\n",
       "      <td>Red</td>\n",
       "      <td>Large</td>\n",
       "    </tr>\n",
       "    <tr>\n",
       "      <td>Abe</td>\n",
       "      <td>21</td>\n",
       "      <td>N</td>\n",
       "      <td>Shepherd</td>\n",
       "      <td>M</td>\n",
       "      <td>Young</td>\n",
       "      <td>Multicolor</td>\n",
       "      <td>Large</td>\n",
       "    </tr>\n",
       "    <tr>\n",
       "      <td>Abigail</td>\n",
       "      <td>64</td>\n",
       "      <td>N</td>\n",
       "      <td>Chihuahua</td>\n",
       "      <td>F</td>\n",
       "      <td>Puppy</td>\n",
       "      <td>Multicolor</td>\n",
       "      <td>Small</td>\n",
       "    </tr>\n",
       "    <tr>\n",
       "      <td>Abigail</td>\n",
       "      <td>255</td>\n",
       "      <td>N</td>\n",
       "      <td>Golden Retriever</td>\n",
       "      <td>F</td>\n",
       "      <td>Adult</td>\n",
       "      <td>Red</td>\n",
       "      <td>Medium</td>\n",
       "    </tr>\n",
       "    <tr>\n",
       "      <td>Abilene</td>\n",
       "      <td>76</td>\n",
       "      <td>N</td>\n",
       "      <td>Mixed Breed (Non-Pitbull)</td>\n",
       "      <td>F</td>\n",
       "      <td>Puppy</td>\n",
       "      <td>Multicolor</td>\n",
       "      <td>Medium</td>\n",
       "    </tr>\n",
       "  </tbody>\n",
       "</table>\n",
       "</div>"
      ],
      "text/plain": [
       "             Days in Rescue Heartworm Positive                      Breed Sex  \\\n",
       "Name of Dog                                                                     \n",
       "Aaron                    30                  N                   Labrador   M   \n",
       "Abby                     11                  N                  Dachshund   F   \n",
       "Abby                     31                  N                    Unknown   F   \n",
       "Abby                     47                  N  Mixed Breed (Non-Pitbull)   F   \n",
       "Abby                     83                  N                  Chihuahua   F   \n",
       "Abby                     90                  N                    Mastiff   F   \n",
       "Abe                      21                  N                   Shepherd   M   \n",
       "Abigail                  64                  N                  Chihuahua   F   \n",
       "Abigail                 255                  N          Golden Retriever    F   \n",
       "Abilene                  76                  N  Mixed Breed (Non-Pitbull)   F   \n",
       "\n",
       "            Age Group When Rescued       Color    Size  \n",
       "Name of Dog                                             \n",
       "Aaron                        Young      Yellow  Medium  \n",
       "Abby                         Adult         Tan   Small  \n",
       "Abby                         Adult     Brindle  Medium  \n",
       "Abby                         Puppy  Multicolor  Medium  \n",
       "Abby                         Adult         Tan   Small  \n",
       "Abby                         Young         Red   Large  \n",
       "Abe                          Young  Multicolor   Large  \n",
       "Abigail                      Puppy  Multicolor   Small  \n",
       "Abigail                      Adult         Red  Medium  \n",
       "Abilene                      Puppy  Multicolor  Medium  "
      ]
     },
     "execution_count": 33,
     "metadata": {},
     "output_type": "execute_result"
    }
   ],
   "source": [
    "import pandas as pd  \n",
    "import numpy as np  \n",
    "import matplotlib.pyplot as plt  \n",
    "import seaborn as sns\n",
    "%matplotlib inline\n",
    "\n",
    "dogs = pd.read_excel ('/Users/Renee/Documents/Dev/NeedyPawsMaster.xlsx', sep=\",\")\n",
    "dogs.set_index('Name of Dog').head(10)"
   ]
  },
  {
   "cell_type": "markdown",
   "metadata": {},
   "source": [
    "# Dataset Info"
   ]
  },
  {
   "cell_type": "code",
   "execution_count": 34,
   "metadata": {},
   "outputs": [
    {
     "data": {
      "text/plain": [
       "(3088, 8)"
      ]
     },
     "execution_count": 34,
     "metadata": {},
     "output_type": "execute_result"
    }
   ],
   "source": [
    "#Dog Shape\n",
    "dogs.shape"
   ]
  },
  {
   "cell_type": "code",
   "execution_count": 35,
   "metadata": {
    "scrolled": true
   },
   "outputs": [
    {
     "data": {
      "text/html": [
       "<div>\n",
       "<style scoped>\n",
       "    .dataframe tbody tr th:only-of-type {\n",
       "        vertical-align: middle;\n",
       "    }\n",
       "\n",
       "    .dataframe tbody tr th {\n",
       "        vertical-align: top;\n",
       "    }\n",
       "\n",
       "    .dataframe thead th {\n",
       "        text-align: right;\n",
       "    }\n",
       "</style>\n",
       "<table border=\"1\" class=\"dataframe\">\n",
       "  <thead>\n",
       "    <tr style=\"text-align: right;\">\n",
       "      <th></th>\n",
       "      <th>Name of Dog</th>\n",
       "      <th>Days in Rescue</th>\n",
       "      <th>Heartworm Positive</th>\n",
       "      <th>Breed</th>\n",
       "      <th>Sex</th>\n",
       "      <th>Age Group When Rescued</th>\n",
       "      <th>Color</th>\n",
       "      <th>Size</th>\n",
       "    </tr>\n",
       "  </thead>\n",
       "  <tbody>\n",
       "    <tr>\n",
       "      <td>count</td>\n",
       "      <td>3088</td>\n",
       "      <td>3088.000000</td>\n",
       "      <td>3088</td>\n",
       "      <td>3088</td>\n",
       "      <td>3088</td>\n",
       "      <td>3033</td>\n",
       "      <td>3083</td>\n",
       "      <td>3069</td>\n",
       "    </tr>\n",
       "    <tr>\n",
       "      <td>unique</td>\n",
       "      <td>2167</td>\n",
       "      <td>NaN</td>\n",
       "      <td>3</td>\n",
       "      <td>103</td>\n",
       "      <td>2</td>\n",
       "      <td>5</td>\n",
       "      <td>11</td>\n",
       "      <td>4</td>\n",
       "    </tr>\n",
       "    <tr>\n",
       "      <td>top</td>\n",
       "      <td>Molly</td>\n",
       "      <td>NaN</td>\n",
       "      <td>N</td>\n",
       "      <td>Mixed Breed (Non-Pitbull)</td>\n",
       "      <td>M</td>\n",
       "      <td>Puppy</td>\n",
       "      <td>Multicolor</td>\n",
       "      <td>Medium</td>\n",
       "    </tr>\n",
       "    <tr>\n",
       "      <td>freq</td>\n",
       "      <td>9</td>\n",
       "      <td>NaN</td>\n",
       "      <td>2996</td>\n",
       "      <td>398</td>\n",
       "      <td>1549</td>\n",
       "      <td>1313</td>\n",
       "      <td>1810</td>\n",
       "      <td>1825</td>\n",
       "    </tr>\n",
       "    <tr>\n",
       "      <td>mean</td>\n",
       "      <td>NaN</td>\n",
       "      <td>47.679728</td>\n",
       "      <td>NaN</td>\n",
       "      <td>NaN</td>\n",
       "      <td>NaN</td>\n",
       "      <td>NaN</td>\n",
       "      <td>NaN</td>\n",
       "      <td>NaN</td>\n",
       "    </tr>\n",
       "    <tr>\n",
       "      <td>std</td>\n",
       "      <td>NaN</td>\n",
       "      <td>62.371584</td>\n",
       "      <td>NaN</td>\n",
       "      <td>NaN</td>\n",
       "      <td>NaN</td>\n",
       "      <td>NaN</td>\n",
       "      <td>NaN</td>\n",
       "      <td>NaN</td>\n",
       "    </tr>\n",
       "    <tr>\n",
       "      <td>min</td>\n",
       "      <td>NaN</td>\n",
       "      <td>0.000000</td>\n",
       "      <td>NaN</td>\n",
       "      <td>NaN</td>\n",
       "      <td>NaN</td>\n",
       "      <td>NaN</td>\n",
       "      <td>NaN</td>\n",
       "      <td>NaN</td>\n",
       "    </tr>\n",
       "    <tr>\n",
       "      <td>25%</td>\n",
       "      <td>NaN</td>\n",
       "      <td>16.000000</td>\n",
       "      <td>NaN</td>\n",
       "      <td>NaN</td>\n",
       "      <td>NaN</td>\n",
       "      <td>NaN</td>\n",
       "      <td>NaN</td>\n",
       "      <td>NaN</td>\n",
       "    </tr>\n",
       "    <tr>\n",
       "      <td>50%</td>\n",
       "      <td>NaN</td>\n",
       "      <td>29.000000</td>\n",
       "      <td>NaN</td>\n",
       "      <td>NaN</td>\n",
       "      <td>NaN</td>\n",
       "      <td>NaN</td>\n",
       "      <td>NaN</td>\n",
       "      <td>NaN</td>\n",
       "    </tr>\n",
       "    <tr>\n",
       "      <td>75%</td>\n",
       "      <td>NaN</td>\n",
       "      <td>60.000000</td>\n",
       "      <td>NaN</td>\n",
       "      <td>NaN</td>\n",
       "      <td>NaN</td>\n",
       "      <td>NaN</td>\n",
       "      <td>NaN</td>\n",
       "      <td>NaN</td>\n",
       "    </tr>\n",
       "    <tr>\n",
       "      <td>max</td>\n",
       "      <td>NaN</td>\n",
       "      <td>812.000000</td>\n",
       "      <td>NaN</td>\n",
       "      <td>NaN</td>\n",
       "      <td>NaN</td>\n",
       "      <td>NaN</td>\n",
       "      <td>NaN</td>\n",
       "      <td>NaN</td>\n",
       "    </tr>\n",
       "  </tbody>\n",
       "</table>\n",
       "</div>"
      ],
      "text/plain": [
       "       Name of Dog  Days in Rescue Heartworm Positive  \\\n",
       "count         3088     3088.000000               3088   \n",
       "unique        2167             NaN                  3   \n",
       "top          Molly             NaN                  N   \n",
       "freq             9             NaN               2996   \n",
       "mean           NaN       47.679728                NaN   \n",
       "std            NaN       62.371584                NaN   \n",
       "min            NaN        0.000000                NaN   \n",
       "25%            NaN       16.000000                NaN   \n",
       "50%            NaN       29.000000                NaN   \n",
       "75%            NaN       60.000000                NaN   \n",
       "max            NaN      812.000000                NaN   \n",
       "\n",
       "                            Breed   Sex Age Group When Rescued       Color  \\\n",
       "count                        3088  3088                   3033        3083   \n",
       "unique                        103     2                      5          11   \n",
       "top     Mixed Breed (Non-Pitbull)     M                  Puppy  Multicolor   \n",
       "freq                          398  1549                   1313        1810   \n",
       "mean                          NaN   NaN                    NaN         NaN   \n",
       "std                           NaN   NaN                    NaN         NaN   \n",
       "min                           NaN   NaN                    NaN         NaN   \n",
       "25%                           NaN   NaN                    NaN         NaN   \n",
       "50%                           NaN   NaN                    NaN         NaN   \n",
       "75%                           NaN   NaN                    NaN         NaN   \n",
       "max                           NaN   NaN                    NaN         NaN   \n",
       "\n",
       "          Size  \n",
       "count     3069  \n",
       "unique       4  \n",
       "top     Medium  \n",
       "freq      1825  \n",
       "mean       NaN  \n",
       "std        NaN  \n",
       "min        NaN  \n",
       "25%        NaN  \n",
       "50%        NaN  \n",
       "75%        NaN  \n",
       "max        NaN  "
      ]
     },
     "execution_count": 35,
     "metadata": {},
     "output_type": "execute_result"
    }
   ],
   "source": [
    "dogs.describe(include = \"all\")"
   ]
  },
  {
   "cell_type": "code",
   "execution_count": 36,
   "metadata": {},
   "outputs": [
    {
     "data": {
      "text/plain": [
       "Index(['Name of Dog', 'Days in Rescue', 'Heartworm Positive', 'Breed', 'Sex',\n",
       "       'Age Group When Rescued', 'Color', 'Size'],\n",
       "      dtype='object')"
      ]
     },
     "execution_count": 36,
     "metadata": {},
     "output_type": "execute_result"
    }
   ],
   "source": [
    "#Variables\n",
    "dogs.columns"
   ]
  },
  {
   "cell_type": "code",
   "execution_count": 37,
   "metadata": {
    "scrolled": true
   },
   "outputs": [
    {
     "data": {
      "text/plain": [
       "Name of Dog               object\n",
       "Days in Rescue             int64\n",
       "Heartworm Positive        object\n",
       "Breed                     object\n",
       "Sex                       object\n",
       "Age Group When Rescued    object\n",
       "Color                     object\n",
       "Size                      object\n",
       "dtype: object"
      ]
     },
     "execution_count": 37,
     "metadata": {},
     "output_type": "execute_result"
    }
   ],
   "source": [
    "#Variable Data Types\n",
    "dogs.dtypes"
   ]
  },
  {
   "cell_type": "markdown",
   "metadata": {},
   "source": [
    "## Breed v. Days Rescued\n",
    "Notes:"
   ]
  },
  {
   "cell_type": "code",
   "execution_count": 38,
   "metadata": {},
   "outputs": [
    {
     "data": {
      "text/plain": [
       "Mixed Breed (Non-Pitbull)    398\n",
       "Pitbull                      390\n",
       "Labrador                     308\n",
       "Chihuahua                    242\n",
       "Mixed Breed (Pitbull)        218\n",
       "                            ... \n",
       "Pug                            1\n",
       "Manchester Terrier             1\n",
       "Maltese                        1\n",
       "Hound                          1\n",
       "Weimaraner                     1\n",
       "Name: Breed, Length: 103, dtype: int64"
      ]
     },
     "execution_count": 38,
     "metadata": {},
     "output_type": "execute_result"
    }
   ],
   "source": [
    "dogs['Breed'].value_counts()"
   ]
  },
  {
   "cell_type": "code",
   "execution_count": 40,
   "metadata": {
    "scrolled": true
   },
   "outputs": [
    {
     "name": "stdout",
     "output_type": "stream",
     "text": [
      "                                Days in Rescue\n",
      "Breed                                         \n",
      "Affenpinscher                        13.000000\n",
      "American Bulldog                     36.090909\n",
      "American Staffordshire Terrier      103.800000\n",
      "Anatolian Shepherd                   13.500000\n",
      "Aussie                               27.321429\n",
      "...                                        ...\n",
      "Weimaraner                           51.000000\n",
      "Westie                                5.000000\n",
      "Whippet                              39.000000\n",
      "Yorkie                               32.050000\n",
      "Yorkie                               22.333333\n",
      "\n",
      "[103 rows x 1 columns]\n"
     ]
    }
   ],
   "source": [
    "df = dogs.groupby(['Breed']).mean()\n",
    "print(df)"
   ]
  },
  {
   "cell_type": "markdown",
   "metadata": {},
   "source": [
    "## Color & Days Rescued\n",
    "Notes:\n",
    "- Blue dogs are more slowly adopted\n",
    "- Gray dogs are more quickly adopted"
   ]
  },
  {
   "cell_type": "code",
   "execution_count": 44,
   "metadata": {},
   "outputs": [
    {
     "data": {
      "text/plain": [
       "Multicolor    1810\n",
       "Black          364\n",
       "Tan            232\n",
       "Brown          194\n",
       "White          173\n",
       "Brindle        125\n",
       "Yellow          71\n",
       "Red             59\n",
       "Gray            26\n",
       "Blue            21\n",
       "Merle            8\n",
       "Name: Color, dtype: int64"
      ]
     },
     "execution_count": 44,
     "metadata": {},
     "output_type": "execute_result"
    }
   ],
   "source": [
    "dogs['Color'].value_counts()"
   ]
  },
  {
   "cell_type": "code",
   "execution_count": 45,
   "metadata": {
    "scrolled": false
   },
   "outputs": [
    {
     "name": "stdout",
     "output_type": "stream",
     "text": [
      "            Days in Rescue\n",
      "Color                     \n",
      "Black            49.788462\n",
      "Blue             72.619048\n",
      "Brindle          49.408000\n",
      "Brown            46.979381\n",
      "Gray             31.153846\n",
      "Merle            52.000000\n",
      "Multicolor       46.606630\n",
      "Red              44.169492\n",
      "Tan              48.370690\n",
      "White            60.023121\n",
      "Yellow           32.436620\n"
     ]
    }
   ],
   "source": [
    "df = dogs.groupby(['Color']).mean()\n",
    "print(df)\n",
    "#White dogs have a much larger count than average\n",
    "#Yellow dogs have a much lower count than average"
   ]
  },
  {
   "cell_type": "markdown",
   "metadata": {},
   "source": [
    "## Sex v. Days Rescued\n",
    "No significant questions."
   ]
  },
  {
   "cell_type": "code",
   "execution_count": 46,
   "metadata": {},
   "outputs": [
    {
     "data": {
      "text/plain": [
       "M    1549\n",
       "F    1539\n",
       "Name: Sex, dtype: int64"
      ]
     },
     "execution_count": 46,
     "metadata": {},
     "output_type": "execute_result"
    }
   ],
   "source": [
    "dogs['Sex'].value_counts()"
   ]
  },
  {
   "cell_type": "code",
   "execution_count": 47,
   "metadata": {
    "scrolled": false
   },
   "outputs": [
    {
     "name": "stdout",
     "output_type": "stream",
     "text": [
      "     Days in Rescue\n",
      "Sex                \n",
      "F         49.447044\n",
      "M         45.923822\n"
     ]
    }
   ],
   "source": [
    "df = dogs.groupby(['Sex']).mean()\n",
    "print(df)\n",
    "#No significant difference. Males slightly more quickly rescued."
   ]
  },
  {
   "cell_type": "markdown",
   "metadata": {},
   "source": [
    "## Heartworm Positive v. Days Rescued\n",
    "Notes:\n",
    "- Heartworm Positive dogs take almost 2x as long to be adopted. *Small sample size"
   ]
  },
  {
   "cell_type": "code",
   "execution_count": 48,
   "metadata": {},
   "outputs": [
    {
     "data": {
      "text/plain": [
       "N    2996\n",
       "Y      76\n",
       "y      16\n",
       "Name: Heartworm Positive, dtype: int64"
      ]
     },
     "execution_count": 48,
     "metadata": {},
     "output_type": "execute_result"
    }
   ],
   "source": [
    "dogs['Heartworm Positive'].value_counts()"
   ]
  },
  {
   "cell_type": "code",
   "execution_count": 49,
   "metadata": {},
   "outputs": [
    {
     "name": "stdout",
     "output_type": "stream",
     "text": [
      "                    Days in Rescue\n",
      "Heartworm Positive                \n",
      "N                        46.608478\n",
      "Y                        84.092105\n",
      "y                        75.312500\n"
     ]
    }
   ],
   "source": [
    "df = dogs.groupby(['Heartworm Positive']).mean()\n",
    "print(df)"
   ]
  },
  {
   "cell_type": "markdown",
   "metadata": {},
   "source": [
    "## Size v. Days Rescued\n",
    "Notes:\n",
    "- Possible correlation of either very small or very large dogs being rescued most quickly.\n",
    "- Further question: How many small dogs are puppies when adopted. Puppies most frequently adopted vs. small older dogs?"
   ]
  },
  {
   "cell_type": "code",
   "execution_count": 51,
   "metadata": {},
   "outputs": [
    {
     "data": {
      "text/plain": [
       "Medium     1825\n",
       "Small       913\n",
       "Large       321\n",
       "X Large      10\n",
       "Name: Size, dtype: int64"
      ]
     },
     "execution_count": 51,
     "metadata": {},
     "output_type": "execute_result"
    }
   ],
   "source": [
    "dogs['Size'].value_counts()"
   ]
  },
  {
   "cell_type": "code",
   "execution_count": 52,
   "metadata": {},
   "outputs": [
    {
     "name": "stdout",
     "output_type": "stream",
     "text": [
      "         Days in Rescue\n",
      "Size                   \n",
      "Large         51.838006\n",
      "Medium        52.218082\n",
      "Small         37.161008\n",
      "X Large       29.600000\n"
     ]
    }
   ],
   "source": [
    "df = dogs.groupby(['Size']).mean()\n",
    "print(df)\n",
    "#Possible correlation of either very small or very large dogs being rescued most quickly.\n",
    "#Further question: How many small dogs are puppies when adopted. Puppies most frequently adopted vs. small older dogs?"
   ]
  },
  {
   "cell_type": "markdown",
   "metadata": {},
   "source": [
    "## Age Group v. Days Rescued\n",
    "Notes:\n",
    "- There are significantly more puppies than small dogs counted."
   ]
  },
  {
   "cell_type": "code",
   "execution_count": 53,
   "metadata": {},
   "outputs": [
    {
     "data": {
      "text/plain": [
       "Puppy      1313\n",
       "Young      1028\n",
       "Adult       598\n",
       "Senior       93\n",
       "Unknown       1\n",
       "Name: Age Group When Rescued, dtype: int64"
      ]
     },
     "execution_count": 53,
     "metadata": {},
     "output_type": "execute_result"
    }
   ],
   "source": [
    "dogs['Age Group When Rescued'].value_counts()"
   ]
  },
  {
   "cell_type": "code",
   "execution_count": 54,
   "metadata": {},
   "outputs": [
    {
     "name": "stdout",
     "output_type": "stream",
     "text": [
      "                        Days in Rescue\n",
      "Age Group When Rescued                \n",
      "Adult                        53.128763\n",
      "Puppy                        43.968012\n",
      "Senior                       51.150538\n",
      "Unknown                      38.000000\n",
      "Young                        49.235409\n"
     ]
    }
   ],
   "source": [
    "df = dogs.groupby(['Age Group When Rescued']).mean()\n",
    "print(df)"
   ]
  },
  {
   "cell_type": "markdown",
   "metadata": {},
   "source": [
    "# Visual Models"
   ]
  },
  {
   "cell_type": "code",
   "execution_count": 55,
   "metadata": {},
   "outputs": [
    {
     "data": {
      "text/plain": [
       "<matplotlib.axes._subplots.AxesSubplot at 0x25903c559c8>"
      ]
     },
     "execution_count": 55,
     "metadata": {},
     "output_type": "execute_result"
    },
    {
     "data": {
      "image/png": "[encoded data removed]",
      "text/plain": [
       "<Figure size 432x288 with 1 Axes>"
      ]
     },
     "metadata": {
      "needs_background": "light"
     },
     "output_type": "display_data"
    }
   ],
   "source": [
    "plt.figure()\n",
    "plt.tight_layout()\n",
    "sns.distplot(dogs['Days in Rescue'])"
   ]
  },
  {
   "cell_type": "code",
   "execution_count": 56,
   "metadata": {},
   "outputs": [
    {
     "data": {
      "image/png": "[encoded data removed]",
      "text/plain": [
       "<Figure size 360x360 with 1 Axes>"
      ]
     },
     "metadata": {
      "needs_background": "light"
     },
     "output_type": "display_data"
    }
   ],
   "source": [
    "sns.catplot(x=\"Size\", y=\"Days in Rescue\", kind=\"box\", data=dogs);"
   ]
  },
  {
   "cell_type": "markdown",
   "metadata": {},
   "source": [
    "# Removing Outliers (3 SD's from mean)"
   ]
  }
 ],
 "metadata": {
  "kernelspec": {
   "display_name": "Python 3",
   "language": "python",
   "name": "python3"
  },
  "language_info": {
   "codemirror_mode": {
    "name": "ipython",
    "version": 3
   },
   "file_extension": ".py",
   "mimetype": "text/x-python",
   "name": "python",
   "nbconvert_exporter": "python",
   "pygments_lexer": "ipython3",
   "version": "3.7.4"
  }
 },
 "nbformat": 4,
 "nbformat_minor": 2
}
